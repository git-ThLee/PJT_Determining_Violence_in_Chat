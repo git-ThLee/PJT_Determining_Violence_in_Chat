{
  "nbformat": 4,
  "nbformat_minor": 0,
  "metadata": {
    "colab": {
      "name": "데이터 셋 분리하기.ipynb",
      "provenance": [],
      "collapsed_sections": []
    },
    "kernelspec": {
      "name": "python3",
      "display_name": "Python 3"
    },
    "language_info": {
      "name": "python"
    }
  },
  "cells": [
    {
      "cell_type": "code",
      "source": [
        "import numpy as np\n",
        "import pandas as pd"
      ],
      "metadata": {
        "id": "smcCdU0PXQZR"
      },
      "execution_count": 1,
      "outputs": []
    },
    {
      "cell_type": "markdown",
      "source": [
        "나눠진 데이터 셋을 합쳐서 불러옵니다."
      ],
      "metadata": {
        "id": "fagPLMJFygIC"
      }
    },
    {
      "cell_type": "code",
      "execution_count": 2,
      "metadata": {
        "id": "lTSR2RDVWTp-"
      },
      "outputs": [],
      "source": [
        "df1 = '/content/drive/MyDrive/nlp pj/unsmile_fin (1).csv'\n",
        "df2 = '/content/drive/MyDrive/nlp pj/immoral_cfin.csv'\n",
        "df3 = '/content/drive/MyDrive/nlp pj/immoral_vfin.csv'"
      ]
    },
    {
      "cell_type": "code",
      "source": [
        "df = pd.concat(\n",
        "   map(pd.read_csv, [df1, df2, df3]), ignore_index=True)\n",
        "print(df)"
      ],
      "metadata": {
        "colab": {
          "base_uri": "https://localhost:8080/"
        },
        "id": "aUs-JOviXX7s",
        "outputId": "1419966a-c767-48bd-8297-bd2a42cbb964"
      },
      "execution_count": 3,
      "outputs": [
        {
          "output_type": "stream",
          "name": "stdout",
          "text": [
            "                                                      문장  clean  violence\n",
            "0                                 일안하는 시간은 쉬고싶어서 그런게 아닐까    1.0       0.0\n",
            "1      아동성범죄와 페도버는 기록바 끊어져 영원히 고통 받는다. 무슬림 50퍼 근친이다. ...    0.0       1.0\n",
            "2      루나 솔로앨범 나왔을 때부터 머모 기운 있었음 ㅇㅇ Keep o  doin 진짜 띵...    1.0       0.0\n",
            "3      홍팍에도 어버이연합인가 보내요 뭐 이런뎃글 있는데 이거 어버이연합측에 신고하면 그쪽...    1.0       0.0\n",
            "4      아놔 왜 여기 댓들은 다 여자들이 김치녀라고 먼저 불렸다! 여자들은 더 심하게 그런...    0.0       1.0\n",
            "...                                                  ...    ...       ...\n",
            "35000  결국 남은 건 막대한 손해에 아줌마 #@인간및인간집단.인물.인물_무정보.여성#, 한...    0.0       1.0\n",
            "35001                         아름다운 추억 본인이 깽판쳐 놓고 감성팔이 마라    0.0       1.0\n",
            "35002                              #@#이 바퀴벌레보다 더 대단한 건가?    0.0       1.0\n",
            "35003          니 말하는꼬라지 보니까 딱 못배운 공익티 팍팍내내  정신공익이냐?ㅋㅋㅋㅋㅋ    0.0       1.0\n",
            "35004                              돈도 많은 것들이 추접하게 무슨 짓이람    0.0       1.0\n",
            "\n",
            "[35005 rows x 3 columns]\n"
          ]
        }
      ]
    },
    {
      "cell_type": "code",
      "source": [
        "df"
      ],
      "metadata": {
        "colab": {
          "base_uri": "https://localhost:8080/",
          "height": 424
        },
        "id": "5Y-k75XmXp28",
        "outputId": "e26d8f62-a8c7-4195-be53-0f04d5731ede"
      },
      "execution_count": 4,
      "outputs": [
        {
          "output_type": "execute_result",
          "data": {
            "text/plain": [
              "                                                      문장  clean  violence\n",
              "0                                 일안하는 시간은 쉬고싶어서 그런게 아닐까    1.0       0.0\n",
              "1      아동성범죄와 페도버는 기록바 끊어져 영원히 고통 받는다. 무슬림 50퍼 근친이다. ...    0.0       1.0\n",
              "2      루나 솔로앨범 나왔을 때부터 머모 기운 있었음 ㅇㅇ Keep o  doin 진짜 띵...    1.0       0.0\n",
              "3      홍팍에도 어버이연합인가 보내요 뭐 이런뎃글 있는데 이거 어버이연합측에 신고하면 그쪽...    1.0       0.0\n",
              "4      아놔 왜 여기 댓들은 다 여자들이 김치녀라고 먼저 불렸다! 여자들은 더 심하게 그런...    0.0       1.0\n",
              "...                                                  ...    ...       ...\n",
              "35000  결국 남은 건 막대한 손해에 아줌마 #@인간및인간집단.인물.인물_무정보.여성#, 한...    0.0       1.0\n",
              "35001                         아름다운 추억 본인이 깽판쳐 놓고 감성팔이 마라    0.0       1.0\n",
              "35002                              #@#이 바퀴벌레보다 더 대단한 건가?    0.0       1.0\n",
              "35003          니 말하는꼬라지 보니까 딱 못배운 공익티 팍팍내내  정신공익이냐?ㅋㅋㅋㅋㅋ    0.0       1.0\n",
              "35004                              돈도 많은 것들이 추접하게 무슨 짓이람    0.0       1.0\n",
              "\n",
              "[35005 rows x 3 columns]"
            ],
            "text/html": [
              "\n",
              "  <div id=\"df-297f6fd0-bf5e-4a40-9c73-d4b03e02ef39\">\n",
              "    <div class=\"colab-df-container\">\n",
              "      <div>\n",
              "<style scoped>\n",
              "    .dataframe tbody tr th:only-of-type {\n",
              "        vertical-align: middle;\n",
              "    }\n",
              "\n",
              "    .dataframe tbody tr th {\n",
              "        vertical-align: top;\n",
              "    }\n",
              "\n",
              "    .dataframe thead th {\n",
              "        text-align: right;\n",
              "    }\n",
              "</style>\n",
              "<table border=\"1\" class=\"dataframe\">\n",
              "  <thead>\n",
              "    <tr style=\"text-align: right;\">\n",
              "      <th></th>\n",
              "      <th>문장</th>\n",
              "      <th>clean</th>\n",
              "      <th>violence</th>\n",
              "    </tr>\n",
              "  </thead>\n",
              "  <tbody>\n",
              "    <tr>\n",
              "      <th>0</th>\n",
              "      <td>일안하는 시간은 쉬고싶어서 그런게 아닐까</td>\n",
              "      <td>1.0</td>\n",
              "      <td>0.0</td>\n",
              "    </tr>\n",
              "    <tr>\n",
              "      <th>1</th>\n",
              "      <td>아동성범죄와 페도버는 기록바 끊어져 영원히 고통 받는다. 무슬림 50퍼 근친이다. ...</td>\n",
              "      <td>0.0</td>\n",
              "      <td>1.0</td>\n",
              "    </tr>\n",
              "    <tr>\n",
              "      <th>2</th>\n",
              "      <td>루나 솔로앨범 나왔을 때부터 머모 기운 있었음 ㅇㅇ Keep o  doin 진짜 띵...</td>\n",
              "      <td>1.0</td>\n",
              "      <td>0.0</td>\n",
              "    </tr>\n",
              "    <tr>\n",
              "      <th>3</th>\n",
              "      <td>홍팍에도 어버이연합인가 보내요 뭐 이런뎃글 있는데 이거 어버이연합측에 신고하면 그쪽...</td>\n",
              "      <td>1.0</td>\n",
              "      <td>0.0</td>\n",
              "    </tr>\n",
              "    <tr>\n",
              "      <th>4</th>\n",
              "      <td>아놔 왜 여기 댓들은 다 여자들이 김치녀라고 먼저 불렸다! 여자들은 더 심하게 그런...</td>\n",
              "      <td>0.0</td>\n",
              "      <td>1.0</td>\n",
              "    </tr>\n",
              "    <tr>\n",
              "      <th>...</th>\n",
              "      <td>...</td>\n",
              "      <td>...</td>\n",
              "      <td>...</td>\n",
              "    </tr>\n",
              "    <tr>\n",
              "      <th>35000</th>\n",
              "      <td>결국 남은 건 막대한 손해에 아줌마 #@인간및인간집단.인물.인물_무정보.여성#, 한...</td>\n",
              "      <td>0.0</td>\n",
              "      <td>1.0</td>\n",
              "    </tr>\n",
              "    <tr>\n",
              "      <th>35001</th>\n",
              "      <td>아름다운 추억 본인이 깽판쳐 놓고 감성팔이 마라</td>\n",
              "      <td>0.0</td>\n",
              "      <td>1.0</td>\n",
              "    </tr>\n",
              "    <tr>\n",
              "      <th>35002</th>\n",
              "      <td>#@#이 바퀴벌레보다 더 대단한 건가?</td>\n",
              "      <td>0.0</td>\n",
              "      <td>1.0</td>\n",
              "    </tr>\n",
              "    <tr>\n",
              "      <th>35003</th>\n",
              "      <td>니 말하는꼬라지 보니까 딱 못배운 공익티 팍팍내내  정신공익이냐?ㅋㅋㅋㅋㅋ</td>\n",
              "      <td>0.0</td>\n",
              "      <td>1.0</td>\n",
              "    </tr>\n",
              "    <tr>\n",
              "      <th>35004</th>\n",
              "      <td>돈도 많은 것들이 추접하게 무슨 짓이람</td>\n",
              "      <td>0.0</td>\n",
              "      <td>1.0</td>\n",
              "    </tr>\n",
              "  </tbody>\n",
              "</table>\n",
              "<p>35005 rows × 3 columns</p>\n",
              "</div>\n",
              "      <button class=\"colab-df-convert\" onclick=\"convertToInteractive('df-297f6fd0-bf5e-4a40-9c73-d4b03e02ef39')\"\n",
              "              title=\"Convert this dataframe to an interactive table.\"\n",
              "              style=\"display:none;\">\n",
              "        \n",
              "  <svg xmlns=\"http://www.w3.org/2000/svg\" height=\"24px\"viewBox=\"0 0 24 24\"\n",
              "       width=\"24px\">\n",
              "    <path d=\"M0 0h24v24H0V0z\" fill=\"none\"/>\n",
              "    <path d=\"M18.56 5.44l.94 2.06.94-2.06 2.06-.94-2.06-.94-.94-2.06-.94 2.06-2.06.94zm-11 1L8.5 8.5l.94-2.06 2.06-.94-2.06-.94L8.5 2.5l-.94 2.06-2.06.94zm10 10l.94 2.06.94-2.06 2.06-.94-2.06-.94-.94-2.06-.94 2.06-2.06.94z\"/><path d=\"M17.41 7.96l-1.37-1.37c-.4-.4-.92-.59-1.43-.59-.52 0-1.04.2-1.43.59L10.3 9.45l-7.72 7.72c-.78.78-.78 2.05 0 2.83L4 21.41c.39.39.9.59 1.41.59.51 0 1.02-.2 1.41-.59l7.78-7.78 2.81-2.81c.8-.78.8-2.07 0-2.86zM5.41 20L4 18.59l7.72-7.72 1.47 1.35L5.41 20z\"/>\n",
              "  </svg>\n",
              "      </button>\n",
              "      \n",
              "  <style>\n",
              "    .colab-df-container {\n",
              "      display:flex;\n",
              "      flex-wrap:wrap;\n",
              "      gap: 12px;\n",
              "    }\n",
              "\n",
              "    .colab-df-convert {\n",
              "      background-color: #E8F0FE;\n",
              "      border: none;\n",
              "      border-radius: 50%;\n",
              "      cursor: pointer;\n",
              "      display: none;\n",
              "      fill: #1967D2;\n",
              "      height: 32px;\n",
              "      padding: 0 0 0 0;\n",
              "      width: 32px;\n",
              "    }\n",
              "\n",
              "    .colab-df-convert:hover {\n",
              "      background-color: #E2EBFA;\n",
              "      box-shadow: 0px 1px 2px rgba(60, 64, 67, 0.3), 0px 1px 3px 1px rgba(60, 64, 67, 0.15);\n",
              "      fill: #174EA6;\n",
              "    }\n",
              "\n",
              "    [theme=dark] .colab-df-convert {\n",
              "      background-color: #3B4455;\n",
              "      fill: #D2E3FC;\n",
              "    }\n",
              "\n",
              "    [theme=dark] .colab-df-convert:hover {\n",
              "      background-color: #434B5C;\n",
              "      box-shadow: 0px 1px 3px 1px rgba(0, 0, 0, 0.15);\n",
              "      filter: drop-shadow(0px 1px 2px rgba(0, 0, 0, 0.3));\n",
              "      fill: #FFFFFF;\n",
              "    }\n",
              "  </style>\n",
              "\n",
              "      <script>\n",
              "        const buttonEl =\n",
              "          document.querySelector('#df-297f6fd0-bf5e-4a40-9c73-d4b03e02ef39 button.colab-df-convert');\n",
              "        buttonEl.style.display =\n",
              "          google.colab.kernel.accessAllowed ? 'block' : 'none';\n",
              "\n",
              "        async function convertToInteractive(key) {\n",
              "          const element = document.querySelector('#df-297f6fd0-bf5e-4a40-9c73-d4b03e02ef39');\n",
              "          const dataTable =\n",
              "            await google.colab.kernel.invokeFunction('convertToInteractive',\n",
              "                                                     [key], {});\n",
              "          if (!dataTable) return;\n",
              "\n",
              "          const docLinkHtml = 'Like what you see? Visit the ' +\n",
              "            '<a target=\"_blank\" href=https://colab.research.google.com/notebooks/data_table.ipynb>data table notebook</a>'\n",
              "            + ' to learn more about interactive tables.';\n",
              "          element.innerHTML = '';\n",
              "          dataTable['output_type'] = 'display_data';\n",
              "          await google.colab.output.renderOutput(dataTable, element);\n",
              "          const docLink = document.createElement('div');\n",
              "          docLink.innerHTML = docLinkHtml;\n",
              "          element.appendChild(docLink);\n",
              "        }\n",
              "      </script>\n",
              "    </div>\n",
              "  </div>\n",
              "  "
            ]
          },
          "metadata": {},
          "execution_count": 4
        }
      ]
    },
    {
      "cell_type": "markdown",
      "source": [
        "8:2의 비율로 나눠서 train, valid셋을 구성해야 하는데 현재 있는 df는 순서대로 합쳐져 있기 때문에 이들을 섞어 줍니다."
      ],
      "metadata": {
        "id": "jTVji-Anyj3_"
      }
    },
    {
      "cell_type": "markdown",
      "source": [
        "나눠서 저장하는 방법을 잘 모르겠어서 그냥 df를 섞고 2:8로 나눠서 각각 저장했습니다. 혹시 다른 방법을 아시면 알려주세요."
      ],
      "metadata": {
        "id": "wMGkdOeYyyBS"
      }
    },
    {
      "cell_type": "code",
      "source": [
        "np.random.seed(7)"
      ],
      "metadata": {
        "id": "7DTjwyrI6bnK"
      },
      "execution_count": 5,
      "outputs": []
    },
    {
      "cell_type": "code",
      "source": [
        "df_shuffled=df.iloc[np.random.permutation(df.index)].reset_index(drop=True)"
      ],
      "metadata": {
        "id": "1gV10JVQdphX"
      },
      "execution_count": 6,
      "outputs": []
    },
    {
      "cell_type": "code",
      "source": [
        "df_shuffled"
      ],
      "metadata": {
        "colab": {
          "base_uri": "https://localhost:8080/",
          "height": 424
        },
        "id": "kVVLdxEheA_-",
        "outputId": "31a9410a-0f73-4088-ce15-abfede1eec7c"
      },
      "execution_count": 7,
      "outputs": [
        {
          "output_type": "execute_result",
          "data": {
            "text/plain": [
              "                                                      문장  clean  violence\n",
              "0                              엉덩이 튼 살 좀 봐라 어느 남자가 좋아하겠어    0.0       1.0\n",
              "1      #@#이 잘했다는 건 아닌데 저 분이 트위터에 작성한 거 보면 얘 불쌍하단 여론이 ...    1.0       0.0\n",
              "2                              맞아 그러니까 넌 진짜 상식 공부라도 좀 해라    0.0       1.0\n",
              "3                                             나? #@#이지ㅋㅋ    1.0       0.0\n",
              "4      페미 병신 논리 때문에 지켜볼 수 밖에 없는거구나 ㅋㅋㅋㅋㅋㅋ와 진짜 페미니즘은 저...    0.0       1.0\n",
              "...                                                  ...    ...       ...\n",
              "35000  ㄴㄴ 오우....예지력 상승이래... 완전 아줌마 냄새... 그거 한 10년전에 쓰...    0.0       1.0\n",
              "35001                 월급 200 받으면서 명품이나 사는 것들은 다 나사 빠진 거지    0.0       1.0\n",
              "35002                           아무튼 돼지년들 ㅋㅋㅋ꼭 사고를 쳐요 븅신들    0.0       1.0\n",
              "35003                       뒤통수 삽으로 후린다음에 저 흙파서 그대로 묻고싶다    0.0       1.0\n",
              "35004                                         보지에 늘 새기겠노    0.0       1.0\n",
              "\n",
              "[35005 rows x 3 columns]"
            ],
            "text/html": [
              "\n",
              "  <div id=\"df-adff17a5-53c7-40cd-a823-6251cfc036bb\">\n",
              "    <div class=\"colab-df-container\">\n",
              "      <div>\n",
              "<style scoped>\n",
              "    .dataframe tbody tr th:only-of-type {\n",
              "        vertical-align: middle;\n",
              "    }\n",
              "\n",
              "    .dataframe tbody tr th {\n",
              "        vertical-align: top;\n",
              "    }\n",
              "\n",
              "    .dataframe thead th {\n",
              "        text-align: right;\n",
              "    }\n",
              "</style>\n",
              "<table border=\"1\" class=\"dataframe\">\n",
              "  <thead>\n",
              "    <tr style=\"text-align: right;\">\n",
              "      <th></th>\n",
              "      <th>문장</th>\n",
              "      <th>clean</th>\n",
              "      <th>violence</th>\n",
              "    </tr>\n",
              "  </thead>\n",
              "  <tbody>\n",
              "    <tr>\n",
              "      <th>0</th>\n",
              "      <td>엉덩이 튼 살 좀 봐라 어느 남자가 좋아하겠어</td>\n",
              "      <td>0.0</td>\n",
              "      <td>1.0</td>\n",
              "    </tr>\n",
              "    <tr>\n",
              "      <th>1</th>\n",
              "      <td>#@#이 잘했다는 건 아닌데 저 분이 트위터에 작성한 거 보면 얘 불쌍하단 여론이 ...</td>\n",
              "      <td>1.0</td>\n",
              "      <td>0.0</td>\n",
              "    </tr>\n",
              "    <tr>\n",
              "      <th>2</th>\n",
              "      <td>맞아 그러니까 넌 진짜 상식 공부라도 좀 해라</td>\n",
              "      <td>0.0</td>\n",
              "      <td>1.0</td>\n",
              "    </tr>\n",
              "    <tr>\n",
              "      <th>3</th>\n",
              "      <td>나? #@#이지ㅋㅋ</td>\n",
              "      <td>1.0</td>\n",
              "      <td>0.0</td>\n",
              "    </tr>\n",
              "    <tr>\n",
              "      <th>4</th>\n",
              "      <td>페미 병신 논리 때문에 지켜볼 수 밖에 없는거구나 ㅋㅋㅋㅋㅋㅋ와 진짜 페미니즘은 저...</td>\n",
              "      <td>0.0</td>\n",
              "      <td>1.0</td>\n",
              "    </tr>\n",
              "    <tr>\n",
              "      <th>...</th>\n",
              "      <td>...</td>\n",
              "      <td>...</td>\n",
              "      <td>...</td>\n",
              "    </tr>\n",
              "    <tr>\n",
              "      <th>35000</th>\n",
              "      <td>ㄴㄴ 오우....예지력 상승이래... 완전 아줌마 냄새... 그거 한 10년전에 쓰...</td>\n",
              "      <td>0.0</td>\n",
              "      <td>1.0</td>\n",
              "    </tr>\n",
              "    <tr>\n",
              "      <th>35001</th>\n",
              "      <td>월급 200 받으면서 명품이나 사는 것들은 다 나사 빠진 거지</td>\n",
              "      <td>0.0</td>\n",
              "      <td>1.0</td>\n",
              "    </tr>\n",
              "    <tr>\n",
              "      <th>35002</th>\n",
              "      <td>아무튼 돼지년들 ㅋㅋㅋ꼭 사고를 쳐요 븅신들</td>\n",
              "      <td>0.0</td>\n",
              "      <td>1.0</td>\n",
              "    </tr>\n",
              "    <tr>\n",
              "      <th>35003</th>\n",
              "      <td>뒤통수 삽으로 후린다음에 저 흙파서 그대로 묻고싶다</td>\n",
              "      <td>0.0</td>\n",
              "      <td>1.0</td>\n",
              "    </tr>\n",
              "    <tr>\n",
              "      <th>35004</th>\n",
              "      <td>보지에 늘 새기겠노</td>\n",
              "      <td>0.0</td>\n",
              "      <td>1.0</td>\n",
              "    </tr>\n",
              "  </tbody>\n",
              "</table>\n",
              "<p>35005 rows × 3 columns</p>\n",
              "</div>\n",
              "      <button class=\"colab-df-convert\" onclick=\"convertToInteractive('df-adff17a5-53c7-40cd-a823-6251cfc036bb')\"\n",
              "              title=\"Convert this dataframe to an interactive table.\"\n",
              "              style=\"display:none;\">\n",
              "        \n",
              "  <svg xmlns=\"http://www.w3.org/2000/svg\" height=\"24px\"viewBox=\"0 0 24 24\"\n",
              "       width=\"24px\">\n",
              "    <path d=\"M0 0h24v24H0V0z\" fill=\"none\"/>\n",
              "    <path d=\"M18.56 5.44l.94 2.06.94-2.06 2.06-.94-2.06-.94-.94-2.06-.94 2.06-2.06.94zm-11 1L8.5 8.5l.94-2.06 2.06-.94-2.06-.94L8.5 2.5l-.94 2.06-2.06.94zm10 10l.94 2.06.94-2.06 2.06-.94-2.06-.94-.94-2.06-.94 2.06-2.06.94z\"/><path d=\"M17.41 7.96l-1.37-1.37c-.4-.4-.92-.59-1.43-.59-.52 0-1.04.2-1.43.59L10.3 9.45l-7.72 7.72c-.78.78-.78 2.05 0 2.83L4 21.41c.39.39.9.59 1.41.59.51 0 1.02-.2 1.41-.59l7.78-7.78 2.81-2.81c.8-.78.8-2.07 0-2.86zM5.41 20L4 18.59l7.72-7.72 1.47 1.35L5.41 20z\"/>\n",
              "  </svg>\n",
              "      </button>\n",
              "      \n",
              "  <style>\n",
              "    .colab-df-container {\n",
              "      display:flex;\n",
              "      flex-wrap:wrap;\n",
              "      gap: 12px;\n",
              "    }\n",
              "\n",
              "    .colab-df-convert {\n",
              "      background-color: #E8F0FE;\n",
              "      border: none;\n",
              "      border-radius: 50%;\n",
              "      cursor: pointer;\n",
              "      display: none;\n",
              "      fill: #1967D2;\n",
              "      height: 32px;\n",
              "      padding: 0 0 0 0;\n",
              "      width: 32px;\n",
              "    }\n",
              "\n",
              "    .colab-df-convert:hover {\n",
              "      background-color: #E2EBFA;\n",
              "      box-shadow: 0px 1px 2px rgba(60, 64, 67, 0.3), 0px 1px 3px 1px rgba(60, 64, 67, 0.15);\n",
              "      fill: #174EA6;\n",
              "    }\n",
              "\n",
              "    [theme=dark] .colab-df-convert {\n",
              "      background-color: #3B4455;\n",
              "      fill: #D2E3FC;\n",
              "    }\n",
              "\n",
              "    [theme=dark] .colab-df-convert:hover {\n",
              "      background-color: #434B5C;\n",
              "      box-shadow: 0px 1px 3px 1px rgba(0, 0, 0, 0.15);\n",
              "      filter: drop-shadow(0px 1px 2px rgba(0, 0, 0, 0.3));\n",
              "      fill: #FFFFFF;\n",
              "    }\n",
              "  </style>\n",
              "\n",
              "      <script>\n",
              "        const buttonEl =\n",
              "          document.querySelector('#df-adff17a5-53c7-40cd-a823-6251cfc036bb button.colab-df-convert');\n",
              "        buttonEl.style.display =\n",
              "          google.colab.kernel.accessAllowed ? 'block' : 'none';\n",
              "\n",
              "        async function convertToInteractive(key) {\n",
              "          const element = document.querySelector('#df-adff17a5-53c7-40cd-a823-6251cfc036bb');\n",
              "          const dataTable =\n",
              "            await google.colab.kernel.invokeFunction('convertToInteractive',\n",
              "                                                     [key], {});\n",
              "          if (!dataTable) return;\n",
              "\n",
              "          const docLinkHtml = 'Like what you see? Visit the ' +\n",
              "            '<a target=\"_blank\" href=https://colab.research.google.com/notebooks/data_table.ipynb>data table notebook</a>'\n",
              "            + ' to learn more about interactive tables.';\n",
              "          element.innerHTML = '';\n",
              "          dataTable['output_type'] = 'display_data';\n",
              "          await google.colab.output.renderOutput(dataTable, element);\n",
              "          const docLink = document.createElement('div');\n",
              "          docLink.innerHTML = docLinkHtml;\n",
              "          element.appendChild(docLink);\n",
              "        }\n",
              "      </script>\n",
              "    </div>\n",
              "  </div>\n",
              "  "
            ]
          },
          "metadata": {},
          "execution_count": 7
        }
      ]
    },
    {
      "cell_type": "code",
      "source": [
        "df_valid = df_shuffled.iloc[0:7001]\n",
        "df_train = df_shuffled.iloc[7001:]"
      ],
      "metadata": {
        "id": "VEbMWUQeeK6H"
      },
      "execution_count": 8,
      "outputs": []
    },
    {
      "cell_type": "code",
      "source": [
        "df_valid.to_csv(\"violence_valid.csv\", index=False, encoding=\"utf-8-sig\")"
      ],
      "metadata": {
        "id": "eOKmE0WTe_p-"
      },
      "execution_count": 9,
      "outputs": []
    },
    {
      "cell_type": "code",
      "source": [
        "df_train.to_csv(\"violence_train.csv\", index=False, encoding=\"utf-8-sig\")"
      ],
      "metadata": {
        "id": "Xu-gLhI3fCCa"
      },
      "execution_count": 10,
      "outputs": []
    }
  ]
}